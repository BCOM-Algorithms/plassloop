# This Script for process reads as entry 

import sys, os
from grapgh_tool.all import *
from Bio import SeqIO
from Bio.SeqIO.QualityIO import FastqGeneralIterator 
from pathlib import Path

path=Path(sys.argv[1])
print(path)

glob_path=path.glob("*.fastq")

#This funtion reads the fastq file and create arrys with the sequences and qualities 

def readsgen():

 for file_path in glob_path:
  sequences=[]
  qualities=[]
  with open(file_path, "rU") as input_fq:
            with open ("{}.fasta".format(file_path.stem), "w") as output_fasta:
                while True:
                     f.readline() 
                     seq=f.readline().rstring() #This keep the sequence
                     f.readline #This omit the + symbol
                     qual=f.readline().rstring() #This keep the quality line 
                     if leg(seq)==0:     
                        break
            sequences.append(seq)
            qualities.append(qual)
 return sequences, qualities

#This function builds a Brujin graph from the reads

def build_graph(sequences, k):
    #This create a new graph
    g= Graph(directed=True)
    vprop_seq=g.new_vertex_property("string")
    eprop_kmer=g.new_edge_property("string")
    vertex_map={}
    for seq in sequences:
        for i in range(len(seq) - k + 1):
            #This generate the kmers taking in count +1 and -1 of the sequences
            kmer = seq[i:i+k]
            if kmer[:-1] not in vertex_map:
               v=g.add_vertex()
               vprop_seq[v]=kmer[:-1]
               vertex_map[kmer[:-1]]=v
            if kmer[1:] not in vertex_map:
                v=g.add_vertex()
                vprop_seq[v]=kmer[1:]
                vertex_map[kmer[1:]]=v
            e=g.add_edge(vertex_map[kmer[:-1]], vertex_map[kmer[1:]])
            eprop_kmer[e]=kmer
    return g, vprop_seq, eprop_kmer

#This function finds eulerian path in a graph

def find_eulerian_path(g, vprop_seq, eprop_kmer):
    paths=[]
    for v in g.vertices():
        if v.out_degree() == v.in_degree()==0:
            path=[v]
            while path[-1].out_degree()==1:
                current=path[-1]
                if current.out_degree()==0:
                    paths.append(path)
                    path.pop()
                else:
                    path.append(next(current.out_neighbours()))
            
        elif v.in_degree() == v.out_degree() + 1:
            end = v
    
   
